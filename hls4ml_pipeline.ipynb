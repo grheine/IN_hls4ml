{
 "cells": [
  {
   "cell_type": "code",
   "execution_count": 2,
   "id": "f58789ab",
   "metadata": {},
   "outputs": [],
   "source": [
    "import os\n",
    "import yaml\n",
    "\n",
    "# from utils.models.interaction_network import InteractionNetwork\n",
    "from utils.hls4ml.load_torch import load_graphs, load_models\n",
    "from utils.hls4ml.compare import compare_hls4ml"
   ]
  },
  {
   "cell_type": "code",
   "execution_count": 14,
   "id": "aba536c1",
   "metadata": {},
   "outputs": [],
   "source": [
    "import os\n",
    "import numpy as np\n",
    "from copy import deepcopy\n",
    "from prettytable import PrettyTable\n",
    "\n",
    "import torch\n",
    "import torch.nn as nn\n",
    "import torch.nn.functional as F\n",
    "import torch_geometric\n",
    "from torch_geometric.loader import DataLoader\n",
    "import torch.optim as optim\n",
    "from torch.optim.lr_scheduler import StepLR\n",
    "\n",
    "from collections import namedtuple, OrderedDict\n",
    "from utils.data.graphdata import GraphDataset\n",
    "from utils.hls4ml.fix_graph_size import fix_graph_size\n",
    "from utils.hls4ml.wrappers import data_wrapper, model_wrapper\n",
    "\n",
    "\n",
    "from hls4ml.utils.config import config_from_pyg_model\n",
    "from hls4ml.converters import convert_from_pyg_model\n",
    "\n",
    "from abdel.utils.models.interaction_network_pyg import InteractionNetwork\n",
    "\n",
    "import matplotlib.pyplot as plt\n",
    "%matplotlib inline\n",
    "from utils.hls4ml import plotting\n",
    "\n",
    "def load_graphs(graph_indir, out_dir, graph_dims, n_graphs):\n",
    "    \n",
    "    n_node_max = graph_dims['n_node']\n",
    "    n_edge_max = graph_dims['n_edge']\n",
    "    \n",
    "    Graph = namedtuple('Graph', ['x', 'edge_attr', 'edge_index', 'y', 'pid'])\n",
    "    graph_files = np.array(os.listdir(graph_indir))\n",
    "    graph_files = np.array([os.path.join(graph_indir, graph_file) for graph_file in graph_files])\n",
    "    \n",
    "    graphs = []\n",
    "    n_nodes, n_edges = [], []\n",
    "    \n",
    "    for file in graph_files[:n_graphs]:\n",
    "        x, edge_attr, edge_index, y, pid = np.load(file, allow_pickle=True)\n",
    "        G = Graph(x, edge_attr, edge_index, y, pid)\n",
    "        graphs.append(G)\n",
    "        n_nodes.append(len(x))\n",
    "        n_edges.append(len(y))\n",
    "        \n",
    "    dataset = GraphDataset(graphs)\n",
    "    \n",
    "    graphs = []\n",
    "    for data in dataset[:n_graphs]:\n",
    "        node_attr, edge_attr, edge_index, target, bad_graph = fix_graph_size(data, n_node_max, n_edge_max)\n",
    "        if not bad_graph:\n",
    "            graphs.append(data_wrapper(node_attr, edge_attr, edge_index, target))\n",
    "    print(f\"n_graphs: {len(graphs)}\")\n",
    "            \n",
    "    nodes_kept = np.sum([n<n_node_max for n in n_nodes])\n",
    "    edges_kept = np.sum([e<n_edge_max for e in n_edges])\n",
    "    \n",
    "    print(f'node dimension: {node_attr.shape}, edge dimension: {edge_attr.shape}')\n",
    "    print(f'{nodes_kept/n_graphs:.1%} of graphs without truncation of nodes')\n",
    "    print(f'{edges_kept/n_graphs:.1%} of graphs without truncation of edges')\n",
    " \n",
    "\n",
    "    print(\"writing test bench data for 1st graph\")\n",
    "    data = graphs[0]\n",
    "    node_attr, edge_attr, edge_index = data.x.detach().cpu().numpy(), data.edge_attr.detach().cpu().numpy(), data.edge_index.transpose(\n",
    "        0, 1).detach().cpu().numpy().astype(np.int32)\n",
    "    os.makedirs('tb_data', exist_ok=True)\n",
    "    input_data = np.concatenate([node_attr.reshape(1, -1), edge_attr.reshape(1, -1), edge_index.reshape(1, -1)], axis=1)\n",
    "    np.savetxt('tb_data/input_data.dat', input_data, fmt='%f', delimiter=' ')\n",
    "\n",
    "    return graphs\n",
    "\n",
    "\n",
    "\n",
    "def load_models(model_dir, output_dir, n_neurons, precision, reuse, part, graph_dims, hls_only=True):\n",
    "    \n",
    "    if 'dict' in model_dir:\n",
    "        torch_model = InteractionNetwork(hidden_size=n_neurons)\n",
    "        torch_model_dict = torch.load(model_dir)\n",
    "        torch_model_dict = deepcopy(torch_model_dict)\n",
    "        torch_model.load_state_dict(torch_model_dict)\n",
    "    else:\n",
    "        torch_model = torch.load(model_dir)\n",
    "        \n",
    "    torch_model.eval()\n",
    "\n",
    "    forward_dict = OrderedDict()\n",
    "    forward_dict[\"R1\"] = \"EdgeBlock\"\n",
    "    forward_dict[\"O\"] = \"NodeBlock\"\n",
    "    forward_dict[\"R2\"] = \"EdgeBlock\"\n",
    "    \n",
    "\n",
    "    # get hls model\n",
    "    config = config_from_pyg_model(torch_model,\n",
    "                                   default_precision=precision,\n",
    "                                   default_index_precision='ap_uint<16>', \n",
    "                                   default_reuse_factor=reuse)\n",
    "        \n",
    "    print(\"-----------------------------------\")\n",
    "    plotting.print_dict(config)\n",
    "    print(\"-----------------------------------\")\n",
    "\n",
    "\n",
    "    \n",
    "    %matplotlib inline\n",
    "    for layer in config['LayerName'].keys():\n",
    "        config['LayerName'][layer]['Trace'] = True\n",
    "    hls_model = hls4ml.converters.convert_from_pyg_model(model,\n",
    "                                                           hls_config=config,\n",
    "                                                           output_dir='hls_output/profiling/hls4ml_prj_2',\n",
    "                                                           part='xczu9eg-ffvb1156-2-e')\n",
    "    hls4ml.model.profiling.numerical(model=model, hls_model=hls_model, X=graphs[:10])\n",
    "    \n",
    "    \n",
    "    return 0\n",
    "    \n",
    "    \n",
    "#     hls_model = convert_from_pyg_model(torch_model,\n",
    "#                                        forward_dictionary=forward_dict,\n",
    "#                                        **graph_dims,\n",
    "#                                        activate_final=\"sigmoid\",\n",
    "#                                        output_dir=output_dir,\n",
    "#                                        hls_config=config,\n",
    "#                                        part=part\n",
    "#                                        )\n",
    "#     hls_model.compile()\n",
    "    \n",
    "#     if hls_only:\n",
    "#         return hls_model\n",
    "    \n",
    "#     else:\n",
    "#         torch_wrapper = model_wrapper(torch_model)\n",
    "#         return torch_model, hls_model, torch_wrapper"
   ]
  },
  {
   "cell_type": "markdown",
   "id": "4e4ccb19",
   "metadata": {},
   "source": [
    "# Load graph data (100 events)\n",
    "Truncate node and edge size at 95% of sizes of all events"
   ]
  },
  {
   "cell_type": "code",
   "execution_count": 7,
   "id": "fdf47dcb",
   "metadata": {
    "scrolled": false
   },
   "outputs": [
    {
     "name": "stdout",
     "output_type": "stream",
     "text": [
      "n_graphs: 13\n",
      "node dimension: torch.Size([50, 3]), edge dimension: torch.Size([60, 4])\n",
      "3.0% of graphs without truncation of nodes\n",
      "1.0% of graphs without truncation of edges\n",
      "writing test bench data for 1st graph\n"
     ]
    }
   ],
   "source": [
    "graph_indir = 'data/graphs'\n",
    "output_dir = 'hls_output/simulation'\n",
    "\n",
    "graph_dims = {\n",
    "    \"n_node\": 50,\n",
    "    \"n_edge\": 60,\n",
    "    \"node_dim\": 3,\n",
    "    \"edge_dim\": 4\n",
    "}\n",
    "\n",
    "graphs = load_graphs(graph_indir, output_dir, graph_dims, 100)"
   ]
  },
  {
   "cell_type": "markdown",
   "id": "233af1db",
   "metadata": {},
   "source": [
    "# Load model and compile hls model"
   ]
  },
  {
   "cell_type": "code",
   "execution_count": 15,
   "id": "633a65c4",
   "metadata": {
    "scrolled": false
   },
   "outputs": [
    {
     "name": "stdout",
     "output_type": "stream",
     "text": [
      "-----------------------------------\n",
      "Model\n",
      "  Precision:         ap_fixed<16,8>\n",
      "  IndexPrecision:    ap_uint<16>\n",
      "  ReuseFactor:       1\n",
      "  Strategy:          Latency\n",
      "-----------------------------------\n"
     ]
    },
    {
     "ename": "KeyError",
     "evalue": "'LayerName'",
     "output_type": "error",
     "traceback": [
      "\u001b[0;31m---------------------------------------------------------------------------\u001b[0m",
      "\u001b[0;31mKeyError\u001b[0m                                  Traceback (most recent call last)",
      "Input \u001b[0;32mIn [15]\u001b[0m, in \u001b[0;36m<module>\u001b[0;34m\u001b[0m\n\u001b[1;32m      7\u001b[0m n_neurons\u001b[38;5;241m=\u001b[39m\u001b[38;5;241m8\u001b[39m\n\u001b[1;32m      9\u001b[0m \u001b[38;5;66;03m# graph_dims = {\u001b[39;00m\n\u001b[1;32m     10\u001b[0m \u001b[38;5;66;03m#     \"n_node\": node_shape[0],\u001b[39;00m\n\u001b[1;32m     11\u001b[0m \u001b[38;5;66;03m#     \"n_edge\": edge_shape[0],\u001b[39;00m\n\u001b[1;32m     12\u001b[0m \u001b[38;5;66;03m#     \"node_dim\": node_shape[1],\u001b[39;00m\n\u001b[1;32m     13\u001b[0m \u001b[38;5;66;03m#     \"edge_dim\": edge_shape[1]\u001b[39;00m\n\u001b[1;32m     14\u001b[0m \u001b[38;5;66;03m# }\u001b[39;00m\n\u001b[0;32m---> 16\u001b[0m torch_model, hls_model, torch_wrapper \u001b[38;5;241m=\u001b[39m \u001b[43mload_models\u001b[49m\u001b[43m(\u001b[49m\u001b[43mtrained_model_dir\u001b[49m\u001b[43m,\u001b[49m\u001b[43m \u001b[49m\u001b[43moutput_dir\u001b[49m\u001b[43m,\u001b[49m\u001b[43m \u001b[49m\u001b[43mn_neurons\u001b[49m\u001b[43m,\u001b[49m\u001b[43m \u001b[49m\u001b[43mprecision\u001b[49m\u001b[43m,\u001b[49m\u001b[43m \u001b[49m\u001b[43mreuse\u001b[49m\u001b[43m,\u001b[49m\u001b[43m \u001b[49m\u001b[43mpart\u001b[49m\u001b[43m,\u001b[49m\u001b[43mgraph_dims\u001b[49m\u001b[43m,\u001b[49m\u001b[43m \u001b[49m\u001b[43mhls_only\u001b[49m\u001b[38;5;241;43m=\u001b[39;49m\u001b[38;5;28;43;01mFalse\u001b[39;49;00m\u001b[43m)\u001b[49m\n\u001b[1;32m     17\u001b[0m torch_model\u001b[38;5;241m.\u001b[39mcount_parameters()\n\u001b[1;32m     19\u001b[0m \u001b[38;5;28mprint\u001b[39m(\u001b[38;5;124m\"\u001b[39m\u001b[38;5;124mModel compiled at: \u001b[39m\u001b[38;5;124m\"\u001b[39m, hls_model\u001b[38;5;241m.\u001b[39mconfig\u001b[38;5;241m.\u001b[39mget_output_dir())\n",
      "Input \u001b[0;32mIn [14]\u001b[0m, in \u001b[0;36mload_models\u001b[0;34m(model_dir, output_dir, n_neurons, precision, reuse, part, graph_dims, hls_only)\u001b[0m\n\u001b[1;32m    103\u001b[0m \u001b[38;5;28mprint\u001b[39m(\u001b[38;5;124m\"\u001b[39m\u001b[38;5;124m-----------------------------------\u001b[39m\u001b[38;5;124m\"\u001b[39m)\n\u001b[1;32m    107\u001b[0m get_ipython()\u001b[38;5;241m.\u001b[39mrun_line_magic(\u001b[38;5;124m'\u001b[39m\u001b[38;5;124mmatplotlib\u001b[39m\u001b[38;5;124m'\u001b[39m, \u001b[38;5;124m'\u001b[39m\u001b[38;5;124minline\u001b[39m\u001b[38;5;124m'\u001b[39m)\n\u001b[0;32m--> 108\u001b[0m \u001b[38;5;28;01mfor\u001b[39;00m layer \u001b[38;5;129;01min\u001b[39;00m \u001b[43mconfig\u001b[49m\u001b[43m[\u001b[49m\u001b[38;5;124;43m'\u001b[39;49m\u001b[38;5;124;43mLayerName\u001b[39;49m\u001b[38;5;124;43m'\u001b[39;49m\u001b[43m]\u001b[49m\u001b[38;5;241m.\u001b[39mkeys():\n\u001b[1;32m    109\u001b[0m     config[\u001b[38;5;124m'\u001b[39m\u001b[38;5;124mLayerName\u001b[39m\u001b[38;5;124m'\u001b[39m][layer][\u001b[38;5;124m'\u001b[39m\u001b[38;5;124mTrace\u001b[39m\u001b[38;5;124m'\u001b[39m] \u001b[38;5;241m=\u001b[39m \u001b[38;5;28;01mTrue\u001b[39;00m\n\u001b[1;32m    110\u001b[0m hls_model \u001b[38;5;241m=\u001b[39m hls4ml\u001b[38;5;241m.\u001b[39mconverters\u001b[38;5;241m.\u001b[39mconvert_from_pyg_model(model,\n\u001b[1;32m    111\u001b[0m                                                        hls_config\u001b[38;5;241m=\u001b[39mconfig,\n\u001b[1;32m    112\u001b[0m                                                        output_dir\u001b[38;5;241m=\u001b[39m\u001b[38;5;124m'\u001b[39m\u001b[38;5;124mhls_output/profiling/hls4ml_prj_2\u001b[39m\u001b[38;5;124m'\u001b[39m,\n\u001b[1;32m    113\u001b[0m                                                        part\u001b[38;5;241m=\u001b[39m\u001b[38;5;124m'\u001b[39m\u001b[38;5;124mxczu9eg-ffvb1156-2-e\u001b[39m\u001b[38;5;124m'\u001b[39m)\n",
      "\u001b[0;31mKeyError\u001b[0m: 'LayerName'"
     ]
    }
   ],
   "source": [
    "nevents = 1000\n",
    "trained_model_dir = f'models/IN_trained_events_{nevents}_neurons_8_state_dict.pt'\n",
    "precision = 'ap_fixed<16,8>'\n",
    "index_precision = 'ap_uint<8>'\n",
    "reuse = 1\n",
    "part = 'xcvc1902-vsva2197-2MP-e-S'\n",
    "n_neurons=8\n",
    "\n",
    "# graph_dims = {\n",
    "#     \"n_node\": node_shape[0],\n",
    "#     \"n_edge\": edge_shape[0],\n",
    "#     \"node_dim\": node_shape[1],\n",
    "#     \"edge_dim\": edge_shape[1]\n",
    "# }\n",
    "\n",
    "torch_model, hls_model, torch_wrapper = load_models(trained_model_dir, output_dir, n_neurons, precision, reuse, part,graph_dims, hls_only=False)\n",
    "torch_model.count_parameters()\n",
    "\n",
    "print(\"Model compiled at: \", hls_model.config.get_output_dir())\n",
    "model_config = f\"precision: {precision} \\nreuse_factor: {reuse}\"\n",
    "with open(hls_model.config.get_output_dir() + \"//model_config.txt\", \"w\") as file:\n",
    "    file.write(model_config)"
   ]
  },
  {
   "cell_type": "markdown",
   "id": "f89b75f2",
   "metadata": {},
   "source": [
    "# Compare metrics"
   ]
  },
  {
   "cell_type": "code",
   "execution_count": 4,
   "id": "225cbd50",
   "metadata": {
    "scrolled": false
   },
   "outputs": [
    {
     "name": "stdout",
     "output_type": "stream",
     "text": [
      "     single-graph wrapper-->torch MAE: 3.6942367387382546e-08\n",
      "\n",
      "     with error criteria = MAE:\n",
      "          mean torch error: 0.06953571\n",
      "          mean hls error: 0.07183308\n",
      "          mean hls-->torch error: 0.007476559\n",
      "\n",
      "     with error criteria = MSE:\n",
      "          mean torch error: 0.034427207\n",
      "          mean hls error: 0.03577862\n",
      "          mean hls-->torch error: 0.0015801615\n",
      "\n",
      "     with error criteria = RMSE:\n",
      "          mean torch error: 0.16716947\n",
      "          mean hls error: 0.17189424\n",
      "          mean hls-->torch error: 0.025338326\n",
      "\n",
      "     with score criteria = Accuracy:\n",
      "          mean torch score: 0.9535268287326792\n",
      "          mean hls score: 0.9510748297103195\n",
      "          mean hls-->torch score: 0.9928910433899946\n",
      "\n",
      "     with score criteria = f1:\n",
      "          mean torch score: 0.9532767798570513\n",
      "          mean hls score: 0.9509780794258036\n",
      "          mean hls-->torch score: 0.9933260336450692\n",
      "\n",
      "     with score criteria = AUC:\n",
      "          mean torch score: 0.9858453661217268\n",
      "          mean hls score: 0.9835445577287099\n",
      "          mean hls-->torch score: 0.9976718159502626\n",
      "\n"
     ]
    }
   ],
   "source": [
    "all_torch_error, all_hls_error, all_torch_hls_diff, wrapper_MAE, hls_output = compare_hls4ml(graphs, output_dir, torch_model, hls_model, torch_wrapper, all_metrics=True)"
   ]
  },
  {
   "cell_type": "code",
   "execution_count": 5,
   "id": "f461fc02",
   "metadata": {},
   "outputs": [
    {
     "data": {
      "image/png": "[encoded data removed]",
      "text/plain": [
       "<Figure size 432x288 with 1 Axes>"
      ]
     },
     "metadata": {
      "needs_background": "light"
     },
     "output_type": "display_data"
    }
   ],
   "source": [
    "import matplotlib.pyplot as plt\n",
    "plt.hist(hls_output)\n",
    "plt.yscale('log')"
   ]
  },
  {
   "cell_type": "code",
   "execution_count": 6,
   "id": "67d220af",
   "metadata": {
    "scrolled": false
   },
   "outputs": [
    {
     "data": {
      "image/png": "[encoded data removed]",
      "text/plain": [
       "<Figure size 576x432 with 1 Axes>"
      ]
     },
     "metadata": {
      "needs_background": "light"
     },
     "output_type": "display_data"
    }
   ],
   "source": [
    "import matplotlib.pyplot as plt\n",
    "from sklearn.metrics import auc\n",
    "from utils.plotting.plot import watermark\n",
    "\n",
    "torch_roc = all_torch_error['ROC']\n",
    "hls_roc = all_hls_error['ROC']\n",
    "\n",
    "def plot_roc(roc, label):\n",
    "    plt.style.use(\"kit\")\n",
    "    fpr, tpr, thresholds = roc\n",
    "    auc_val=auc(fpr, tpr)\n",
    "\n",
    "    plt.plot(fpr, tpr, label=f'{label} AUC = {auc_val:.3f}', marker='None')\n",
    "    \n",
    "    watermark(py=0.9, shift=0.16, scale=1.1)\n",
    "    plt.xlabel('False Positive Rate')\n",
    "    plt.ylabel('True Positive Rate')\n",
    "    plt.legend(loc='center right', bbox_to_anchor=(1, 0.91), fontsize=12)\n",
    "\n",
    "plt.figure(figsize=(8,6))\n",
    "plot_roc(torch_roc, 'torch')    \n",
    "plot_roc(hls_roc, 'hls')\n",
    "plt.savefig('img/hls_roc_plot.png', bbox_inches='tight')\n",
    "plt.show()\n",
    "\n"
   ]
  },
  {
   "cell_type": "markdown",
   "id": "4098367f",
   "metadata": {},
   "source": [
    "# Compare for different floating point sizes"
   ]
  },
  {
   "cell_type": "code",
   "execution_count": 7,
   "id": "179f9b94",
   "metadata": {
    "scrolled": false
   },
   "outputs": [
    {
     "name": "stderr",
     "output_type": "stream",
     "text": [
      "\r",
      "  0%|                                                                                                                                                                  | 0/5 [00:00<?, ?it/s]"
     ]
    },
    {
     "name": "stdout",
     "output_type": "stream",
     "text": [
      "Writing HLS project\n",
      "Done\n",
      "Writing HLS project\n",
      "Done\n"
     ]
    },
    {
     "name": "stderr",
     "output_type": "stream",
     "text": [
      "\r",
      " 20%|██████████████████████████████▊                                                                                                                           | 1/5 [00:12<00:49, 12.48s/it]"
     ]
    },
    {
     "name": "stdout",
     "output_type": "stream",
     "text": [
      "     single-graph wrapper-->torch MAE: 3.6942367387382546e-08\n",
      "\n",
      "     with error criteria = MAE:\n",
      "          mean torch error: 0.06953571\n",
      "          mean hls error: 0.552273\n",
      "          mean hls-->torch error: 0.5228192\n",
      "\n",
      "     with error criteria = MSE:\n",
      "          mean torch error: 0.034427207\n",
      "          mean hls error: 0.42594463\n",
      "          mean hls-->torch error: 0.38785723\n",
      "\n",
      "     with error criteria = RMSE:\n",
      "          mean torch error: 0.16716947\n",
      "          mean hls error: 0.6514438\n",
      "          mean hls-->torch error: 0.6212874\n",
      "\n",
      "     with score criteria = Accuracy:\n",
      "          mean torch score: 0.9535268287326792\n",
      "          mean hls score: 0.43998403931762387\n",
      "          mean hls-->torch score: 0.43678347162630565\n",
      "\n",
      "     with score criteria = f1:\n",
      "          mean torch score: 0.9532767798570513\n",
      "          mean hls score: 0.36600574729379737\n",
      "          mean hls-->torch score: 0.3681327830893359\n",
      "\n",
      "     with score criteria = AUC:\n",
      "          mean torch score: 0.9858453661217268\n",
      "          mean hls score: 0.41976245497642073\n",
      "          mean hls-->torch score: 0.41983242277087024\n",
      "\n",
      "Writing HLS project\n",
      "Done\n",
      "Writing HLS project\n",
      "Done\n"
     ]
    },
    {
     "name": "stderr",
     "output_type": "stream",
     "text": [
      "\r",
      " 40%|█████████████████████████████████████████████████████████████▌                                                                                            | 2/5 [00:24<00:35, 11.95s/it]"
     ]
    },
    {
     "name": "stdout",
     "output_type": "stream",
     "text": [
      "     single-graph wrapper-->torch MAE: 3.6942367387382546e-08\n",
      "\n",
      "     with error criteria = MAE:\n",
      "          mean torch error: 0.06953571\n",
      "          mean hls error: 0.15452397\n",
      "          mean hls-->torch error: 0.10305499\n",
      "\n",
      "     with error criteria = MSE:\n",
      "          mean torch error: 0.034427207\n",
      "          mean hls error: 0.0929012\n",
      "          mean hls-->torch error: 0.058258288\n",
      "\n",
      "     with error criteria = RMSE:\n",
      "          mean torch error: 0.16716947\n",
      "          mean hls error: 0.29856637\n",
      "          mean hls-->torch error: 0.23194312\n",
      "\n",
      "     with score criteria = Accuracy:\n",
      "          mean torch score: 0.9535268287326792\n",
      "          mean hls score: 0.8732552702413438\n",
      "          mean hls-->torch score: 0.899226973165427\n",
      "\n",
      "     with score criteria = f1:\n",
      "          mean torch score: 0.9532767798570513\n",
      "          mean hls score: 0.8810429160365798\n",
      "          mean hls-->torch score: 0.9080092036965864\n",
      "\n",
      "     with score criteria = AUC:\n",
      "          mean torch score: 0.9858453661217268\n",
      "          mean hls score: 0.9164618047413488\n",
      "          mean hls-->torch score: 0.9316895983759375\n",
      "\n",
      "Writing HLS project\n",
      "Done\n",
      "Writing HLS project\n",
      "Done\n"
     ]
    },
    {
     "name": "stderr",
     "output_type": "stream",
     "text": [
      "\r",
      " 60%|████████████████████████████████████████████████████████████████████████████████████████████▍                                                             | 3/5 [00:34<00:22, 11.34s/it]"
     ]
    },
    {
     "name": "stdout",
     "output_type": "stream",
     "text": [
      "     single-graph wrapper-->torch MAE: 3.6942367387382546e-08\n",
      "\n",
      "     with error criteria = MAE:\n",
      "          mean torch error: 0.06953571\n",
      "          mean hls error: 0.07183308\n",
      "          mean hls-->torch error: 0.007476559\n",
      "\n",
      "     with error criteria = MSE:\n",
      "          mean torch error: 0.034427207\n",
      "          mean hls error: 0.03577862\n",
      "          mean hls-->torch error: 0.0015801615\n",
      "\n",
      "     with error criteria = RMSE:\n",
      "          mean torch error: 0.16716947\n",
      "          mean hls error: 0.17189424\n",
      "          mean hls-->torch error: 0.025338326\n",
      "\n",
      "     with score criteria = Accuracy:\n",
      "          mean torch score: 0.9535268287326792\n",
      "          mean hls score: 0.9510748297103195\n",
      "          mean hls-->torch score: 0.9928910433899946\n",
      "\n",
      "     with score criteria = f1:\n",
      "          mean torch score: 0.9532767798570513\n",
      "          mean hls score: 0.9509780794258036\n",
      "          mean hls-->torch score: 0.9933260336450692\n",
      "\n",
      "     with score criteria = AUC:\n",
      "          mean torch score: 0.9858453661217268\n",
      "          mean hls score: 0.9835445577287099\n",
      "          mean hls-->torch score: 0.9976718159502626\n",
      "\n",
      "Writing HLS project\n",
      "Done\n",
      "Writing HLS project\n",
      "Done\n"
     ]
    },
    {
     "name": "stderr",
     "output_type": "stream",
     "text": [
      "\r",
      " 80%|███████████████████████████████████████████████████████████████████████████████████████████████████████████████████████████▏                              | 4/5 [00:45<00:11, 11.15s/it]"
     ]
    },
    {
     "name": "stdout",
     "output_type": "stream",
     "text": [
      "     single-graph wrapper-->torch MAE: 3.6942367387382546e-08\n",
      "\n",
      "     with error criteria = MAE:\n",
      "          mean torch error: 0.06953571\n",
      "          mean hls error: 0.069724\n",
      "          mean hls-->torch error: 0.0013600728\n",
      "\n",
      "     with error criteria = MSE:\n",
      "          mean torch error: 0.034427207\n",
      "          mean hls error: 0.034384955\n",
      "          mean hls-->torch error: 1.2091962e-05\n",
      "\n",
      "     with error criteria = RMSE:\n",
      "          mean torch error: 0.16716947\n",
      "          mean hls error: 0.1671469\n",
      "          mean hls-->torch error: 0.0030953682\n",
      "\n",
      "     with score criteria = Accuracy:\n",
      "          mean torch score: 0.9535268287326792\n",
      "          mean hls score: 0.9530785023015553\n",
      "          mean hls-->torch score: 0.9986493194836571\n",
      "\n",
      "     with score criteria = f1:\n",
      "          mean torch score: 0.9532767798570513\n",
      "          mean hls score: 0.9528123112488591\n",
      "          mean hls-->torch score: 0.9987186603737889\n",
      "\n",
      "     with score criteria = AUC:\n",
      "          mean torch score: 0.9858453661217268\n",
      "          mean hls score: 0.9857930637405717\n",
      "          mean hls-->torch score: 0.9999673745075504\n",
      "\n",
      "Writing HLS project\n",
      "Done\n",
      "Writing HLS project\n",
      "Done\n"
     ]
    },
    {
     "name": "stderr",
     "output_type": "stream",
     "text": [
      "100%|██████████████████████████████████████████████████████████████████████████████████████████████████████████████████████████████████████████████████████████| 5/5 [00:56<00:00, 11.28s/it]"
     ]
    },
    {
     "name": "stdout",
     "output_type": "stream",
     "text": [
      "     single-graph wrapper-->torch MAE: 3.6942367387382546e-08\n",
      "\n",
      "     with error criteria = MAE:\n",
      "          mean torch error: 0.06953571\n",
      "          mean hls error: 0.069766656\n",
      "          mean hls-->torch error: 0.0007408562\n",
      "\n",
      "     with error criteria = MSE:\n",
      "          mean torch error: 0.034427207\n",
      "          mean hls error: 0.034427825\n",
      "          mean hls-->torch error: 1.6575567e-06\n",
      "\n",
      "     with error criteria = RMSE:\n",
      "          mean torch error: 0.16716947\n",
      "          mean hls error: 0.16724958\n",
      "          mean hls-->torch error: 0.0012053325\n",
      "\n",
      "     with score criteria = Accuracy:\n",
      "          mean torch score: 0.9535268287326792\n",
      "          mean hls score: 0.9532067874940946\n",
      "          mean hls-->torch score: 0.9991191811002156\n",
      "\n",
      "     with score criteria = f1:\n",
      "          mean torch score: 0.9532767798570513\n",
      "          mean hls score: 0.9529130339057028\n",
      "          mean hls-->torch score: 0.9991640893121169\n",
      "\n",
      "     with score criteria = AUC:\n",
      "          mean torch score: 0.9858453661217268\n",
      "          mean hls score: 0.9858208040614522\n",
      "          mean hls-->torch score: 0.9999962036620004\n",
      "\n"
     ]
    },
    {
     "name": "stderr",
     "output_type": "stream",
     "text": [
      "\n"
     ]
    }
   ],
   "source": [
    "from tqdm import tqdm\n",
    "import warnings\n",
    "warnings.filterwarnings(\"ignore\")  \n",
    "\n",
    "\n",
    "bits = [8,12,16,20,24]\n",
    "rocs=[]\n",
    "\n",
    "for b in tqdm(bits):\n",
    "    precision = f'ap_fixed<{b},{int(b/2)}>'\n",
    "    model_dir = 'models/trained_IN_neurons_8.pt'\n",
    "    output_dir = f\"hls_output/precision_{b}\"\n",
    "    index_precision = 'ap_uint<8>'\n",
    "    reuse = 1\n",
    "    part = 'xcvu9p-flga2104-2L-e'\n",
    "\n",
    "    torch_model, hls_model, torch_wrapper = load_models(trained_model_dir, output_dir, n_neurons, precision, reuse, part,graph_dims, hls_only=False)\n",
    "    hls_model.compile()\n",
    "    all_torch_error, all_hls_error, all_torch_hls_diff, _, _ = compare_hls4ml(graphs, output_dir, torch_model, hls_model, torch_wrapper, all_metrics=True)\n",
    "    hls_roc = all_hls_error['ROC'] \n",
    "    rocs.append(hls_roc)"
   ]
  },
  {
   "cell_type": "code",
   "execution_count": 8,
   "id": "e7083879",
   "metadata": {},
   "outputs": [
    {
     "data": {
      "image/png": "[encoded data removed]",
      "text/plain": [
       "<Figure size 576x432 with 1 Axes>"
      ]
     },
     "metadata": {},
     "output_type": "display_data"
    }
   ],
   "source": [
    "def plot_roc(roc, label):\n",
    "    plt.style.use(\"kit\")\n",
    "    fpr, tpr, thresholds = roc\n",
    "    auc_val=auc(fpr, tpr)\n",
    "\n",
    "    plt.plot(fpr, tpr, label=f'{label} AUC = {auc_val:.3f}', marker='None')\n",
    "    \n",
    "plot_roc(torch_roc, 'torch') \n",
    "for i,b in enumerate(bits):\n",
    "    \n",
    "    plot_roc(rocs[i], f'hls {b} bit')\n",
    "\n",
    "watermark(py=0.9, shift=0.16, scale=1.2)\n",
    "plt.xlabel('False Positive Rate')\n",
    "plt.ylabel('True Positive Rate')\n",
    "plt.title(f'trained on {nevents} events')\n",
    "plt.legend(loc='lower right', fontsize=12, frameon = True, framealpha = 0.7, facecolor = 'white', edgecolor = 'white')\n",
    "plt.savefig(f'img/hls_roc_plot_ngraphs_{nevents}.png', bbox_inches='tight')\n",
    "plt.show()"
   ]
  },
  {
   "cell_type": "markdown",
   "id": "5c8f933f",
   "metadata": {},
   "source": [
    "# Build HLS"
   ]
  },
  {
   "cell_type": "code",
   "execution_count": 9,
   "id": "dcaa0d49",
   "metadata": {
    "scrolled": false
   },
   "outputs": [],
   "source": [
    "# hls4ml.report.read_vivado_report('hls_output/test/')"
   ]
  },
  {
   "cell_type": "code",
   "execution_count": null,
   "id": "c5db2bc3",
   "metadata": {},
   "outputs": [],
   "source": []
  },
  {
   "cell_type": "code",
   "execution_count": null,
   "id": "b5347fa1",
   "metadata": {},
   "outputs": [],
   "source": []
  }
 ],
 "metadata": {
  "kernelspec": {
   "display_name": "Python 3 (ipykernel)",
   "language": "python",
   "name": "python3"
  },
  "language_info": {
   "codemirror_mode": {
    "name": "ipython",
    "version": 3
   },
   "file_extension": ".py",
   "mimetype": "text/x-python",
   "name": "python",
   "nbconvert_exporter": "python",
   "pygments_lexer": "ipython3",
   "version": "3.9.10"
  }
 },
 "nbformat": 4,
 "nbformat_minor": 5
}
