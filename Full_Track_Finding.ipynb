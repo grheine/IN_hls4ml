{
 "cells": [
  {
   "cell_type": "code",
   "execution_count": 1,
   "id": "9cfb1f0a",
   "metadata": {},
   "outputs": [],
   "source": [
    "# import statements\n",
    "import random\n",
    "import torch\n",
    "import seaborn\n",
    "import pandas as pd\n",
    "from tqdm import tnrange, tqdm\n",
    "import numpy as np\n",
    "import matplotlib.pyplot as plt\n",
    "\n",
    "import torch.nn as nn\n",
    "import networkx as nx\n",
    "import torch.nn.functional as F\n",
    "\n",
    "from collections import namedtuple\n",
    "from utils.data.load_graphs import load_graphs\n",
    "from torch_geometric.loader import DataLoader\n",
    "from utils.data.graphdata import GraphDataset\n",
    "from utils.models.interaction_network import InteractionNetwork\n",
    "from utils.plotting.plot_events import plot_event"
   ]
  },
  {
   "cell_type": "code",
   "execution_count": 7,
   "id": "05abbd9f",
   "metadata": {
    "scrolled": true
   },
   "outputs": [],
   "source": [
    "in_dir = 'data/graphs'\n",
    "trained_model_dir = f'models/IN_trained_100_neurons_8.pt'\n",
    "model = torch.load(trained_model_dir)\n",
    "model.eval()\n",
    "\n",
    "nevents = 1\n",
    "node_dim = 3\n",
    "edge_dim = 3\n",
    "\n",
    "threshold = 0.5\n",
    "\n",
    "\n",
    "graphs = load_graphs(in_dir, nevents, node_dim, edge_dim) \n",
    "test_data = GraphDataset(graphs)"
   ]
  },
  {
   "cell_type": "code",
   "execution_count": null,
   "id": "9822384f",
   "metadata": {},
   "outputs": [],
   "source": [
    "def split_event(data):\n",
    "    ''' \n",
    "    Divide into 'before' (z<360cm), 'inside' (360cm<=z<500cm) and 'after' (z>500cm) the magnetic field\n",
    "    '''\n",
    "    ids1 = np.argwhere(data[:,-2]*100 < 360)\n",
    "    ids2 = np.argwhere((data[:,-2]*100 >= 360) & (data[:,1]*100 < 500))\n",
    "    ids3 = np.argwhere(data[:,-2]*100 >= 500)\n",
    "    \n",
    "    return [data[ids1].squeeze(), data[ids2].squeeze(), data[ids3].squeeze()]"
   ]
  },
  {
   "cell_type": "code",
   "execution_count": 60,
   "id": "46d318e4",
   "metadata": {},
   "outputs": [],
   "source": [
    "def build_tracklets(model, data, thld):\n",
    "    reco = []\n",
    "    output = model(data).squeeze(1).detach().numpy()\n",
    "\n",
    "    ids = np.unique(data.pid.T[1])\n",
    "    evID = np.unique(data.pid[0])\n",
    "\n",
    "    segments = data.edge_index.T\n",
    "    p_t = np.hstack((segments, np.vstack(output)))\n",
    "    p_t = p_t[p_t[:,2]>=thld]\n",
    "\n",
    "    G = nx.Graph()\n",
    "    G.add_weighted_edges_from(p_t)\n",
    "\n",
    "    for g in nx.connected_components(G):\n",
    "        item = np.array(list(g)).astype(np.int32)\n",
    "        x = data.x[item].squeeze()\n",
    "        x = np.concatenate((np.array([item]).T, x), axis=1)\n",
    "        x = x[x[:, 2].argsort()]\n",
    "        reco.append(x)\n",
    "        \n",
    "    return reco"
   ]
  },
  {
   "cell_type": "code",
   "execution_count": 85,
   "id": "88702de5",
   "metadata": {
    "scrolled": true
   },
   "outputs": [],
   "source": [
    "tot_purity    = []\n",
    "tot_coverage  = []\n",
    "tot_partially = []\n",
    "tot_fully     = []\n",
    "tot_ghost     = []\n",
    "\n",
    "min_track_len = 6\n",
    "\n",
    "\n",
    "thlds = np.linspace(0.05, 0.95, 10)\n",
    "\n",
    "for thld in thlds:\n",
    "    \n",
    "    # define the QA variables\n",
    "    n_reconstructible = 0\n",
    "    n_partiallyfound  = 0\n",
    "    n_fullyfound      = 0\n",
    "    n_ghost           = 0\n",
    "    purity            = []\n",
    "    mc_coverage       = []\n",
    "    \n",
    "    for data in test_data:\n",
    "        reco = build_tracklets(model, data, thld)\n",
    "            \n",
    "        # calculate purity, MC coverage, n_reconstructible and n_reconstructed\n",
    "        for pid in np.unique(data.pid[:,1]):\n",
    "            \n",
    "            tIDs = np.argwhere(data.pid[:,1] == pid)\n",
    "            ttrack = data.x[tIDs].squeeze()\n",
    "            ttrack = np.concatenate((tIDs.T, ttrack), axis=1)\n",
    "            \n",
    "            if len(tIDs[0]) >= min_track_len:\n",
    "                n_reconstructible += 1                               \n",
    "\n",
    "                for rtrack in reco:\n",
    "                    if len(rtrack >= min_track_len):\n",
    "                        pure  = len(np.intersect1d(ttrack[:,0], rtrack[:,0])) / len(rtrack)\n",
    "                        cover  = len(np.intersect1d(ttrack[:,0], rtrack[:,0])) / len(ttrack)\n",
    "                        \n",
    "                        if pure > 0.8:\n",
    "                            purity.append(pure)\n",
    "                            mc_coverage.append(cover)\n",
    "                            n_partiallyfound += 1\n",
    "                            if cover == 1:\n",
    "                                n_fullyfound += 1\n",
    "                        elif pure > 0:\n",
    "                            purity.append(pure)\n",
    "                            mc_coverage.append(cover)\n",
    "                            n_ghost += 1\n",
    "                            \n",
    "                            \n",
    "    tot_purity.append(np.mean(purity))\n",
    "    tot_coverage.append(np.mean(mc_coverage))\n",
    "    tot_partially.append(n_partiallyfound / n_reconstructible)\n",
    "    tot_fully.append(n_fullyfound / n_reconstructible)\n",
    "    tot_ghost.append(n_ghost / n_reconstructible)\n",
    "\n",
    "    "
   ]
  },
  {
   "cell_type": "code",
   "execution_count": 84,
   "id": "8b8a12e1",
   "metadata": {
    "scrolled": false
   },
   "outputs": [
    {
     "data": {
      "text/plain": [
       "<matplotlib.legend.Legend at 0x7fa378d8be50>"
      ]
     },
     "execution_count": 84,
     "metadata": {},
     "output_type": "execute_result"
    },
    {
     "data": {
      "image/png": "[encoded data removed]",
      "text/plain": [
       "<Figure size 576x432 with 1 Axes>"
      ]
     },
     "metadata": {},
     "output_type": "display_data"
    }
   ],
   "source": [
    "plt.plot(thlds, tot_purity, label = 'purity')\n",
    "plt.plot(thlds, tot_coverage, label = 'coverage')\n",
    "# plt.plot(thlds, tot_partially, label= 'partially')\n",
    "plt.plot(thlds, tot_fully, label = 'fully')\n",
    "plt.plot(thlds, tot_ghost, label = 'ghost')\n",
    "plt.legend()"
   ]
  },
  {
   "cell_type": "code",
   "execution_count": null,
   "id": "3ff09477",
   "metadata": {},
   "outputs": [],
   "source": [
    "plot_event(graph=graphs[0]).plot_traineddisplay(model, disc=0.5)\n",
    "plot_event(graph=graphs[0]).plot_tracklet_display(reco)"
   ]
  },
  {
   "cell_type": "code",
   "execution_count": null,
   "id": "7955987f",
   "metadata": {},
   "outputs": [],
   "source": [
    "#         data = GraphDataset(self.graph)[0]\n",
    "#         output = model(data)\n",
    "\n",
    "#         evID = graph.pid.index.unique()[0]\n",
    "#         X = np.array(data.x)\n",
    "#         segments = data.edge_index.T\n",
    "#         p_t = np.hstack((segments, np.vstack(output)))"
   ]
  },
  {
   "cell_type": "code",
   "execution_count": null,
   "id": "ecc6e02e",
   "metadata": {},
   "outputs": [],
   "source": [
    "a.shape, b.T.shape"
   ]
  }
 ],
 "metadata": {
  "kernelspec": {
   "display_name": "Python 3 (ipykernel)",
   "language": "python",
   "name": "python3"
  },
  "language_info": {
   "codemirror_mode": {
    "name": "ipython",
    "version": 3
   },
   "file_extension": ".py",
   "mimetype": "text/x-python",
   "name": "python",
   "nbconvert_exporter": "python",
   "pygments_lexer": "ipython3",
   "version": "3.9.10"
  }
 },
 "nbformat": 4,
 "nbformat_minor": 5
}
